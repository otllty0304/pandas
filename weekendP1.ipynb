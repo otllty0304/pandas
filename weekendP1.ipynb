{
  "nbformat": 4,
  "nbformat_minor": 0,
  "metadata": {
    "colab": {
      "name": "weekendP1.ipynb",
      "provenance": [],
      "collapsed_sections": [],
      "authorship_tag": "ABX9TyNUOVhqTuWXlY5timk4PTnj",
      "include_colab_link": true
    },
    "kernelspec": {
      "name": "python3",
      "display_name": "Python 3"
    },
    "language_info": {
      "name": "python"
    }
  },
  "cells": [
    {
      "cell_type": "markdown",
      "metadata": {
        "id": "view-in-github",
        "colab_type": "text"
      },
      "source": [
        "<a href=\"https://colab.research.google.com/github/otllty0304/pandas/blob/main/weekendP1.ipynb\" target=\"_parent\"><img src=\"https://colab.research.google.com/assets/colab-badge.svg\" alt=\"Open In Colab\"/></a>"
      ]
    },
    {
      "cell_type": "code",
      "metadata": {
        "id": "aceZLIt7Q_Sa"
      },
      "source": [
        "import pandas as pd\n",
        "# 시리즈, 데이터 프레임(*)\n",
        "# Series 키값과 밸류값 형태 즉 파이썬 딕셔너리와 유사한 구조 "
      ],
      "execution_count": 1,
      "outputs": []
    },
    {
      "cell_type": "code",
      "metadata": {
        "id": "Nj3mT-KqRhik"
      },
      "source": [
        "dict_data = {'a':1,'b':2,'c':3} #파이썬 딕셔너리 "
      ],
      "execution_count": 2,
      "outputs": []
    },
    {
      "cell_type": "code",
      "metadata": {
        "colab": {
          "base_uri": "https://localhost:8080/"
        },
        "id": "LJ4mJwojRxwm",
        "outputId": "ac2ff4be-a3e5-4b7b-eada-f2d2f562d832"
      },
      "source": [
        "sr = pd.Series(dict_data)\n",
        "sr"
      ],
      "execution_count": 3,
      "outputs": [
        {
          "output_type": "execute_result",
          "data": {
            "text/plain": [
              "a    1\n",
              "b    2\n",
              "c    3\n",
              "dtype: int64"
            ]
          },
          "metadata": {},
          "execution_count": 3
        }
      ]
    },
    {
      "cell_type": "code",
      "metadata": {
        "colab": {
          "base_uri": "https://localhost:8080/"
        },
        "id": "8RJ1cVpvSWSb",
        "outputId": "3934e65e-c21a-496b-80c6-bdac85337946"
      },
      "source": [
        "type(sr)"
      ],
      "execution_count": 4,
      "outputs": [
        {
          "output_type": "execute_result",
          "data": {
            "text/plain": [
              "pandas.core.series.Series"
            ]
          },
          "metadata": {},
          "execution_count": 4
        }
      ]
    },
    {
      "cell_type": "code",
      "metadata": {
        "colab": {
          "base_uri": "https://localhost:8080/"
        },
        "id": "1dCstboxSYgs",
        "outputId": "520673c9-a711-47a5-ea93-072982ff6b05"
      },
      "source": [
        "type(dict_data)"
      ],
      "execution_count": 5,
      "outputs": [
        {
          "output_type": "execute_result",
          "data": {
            "text/plain": [
              "dict"
            ]
          },
          "metadata": {},
          "execution_count": 5
        }
      ]
    },
    {
      "cell_type": "code",
      "metadata": {
        "colab": {
          "base_uri": "https://localhost:8080/"
        },
        "id": "fvjIxwqHSbZ1",
        "outputId": "381bbdc8-52e5-4711-b819-ea0d0ae3b9e0"
      },
      "source": [
        "list_data = ['2021-12-04',3.14,'ABC',100,True]\n",
        "sr = pd.Series(list_data)\n",
        "sr\n",
        "#시리즈의 인덱스 배열ㄹ과 데이터 값의 배열을\n",
        "#인덱스는 0~4 범위의 정수로 인덱스 \n",
        "#데이터값이 밸류 값으로 나열되어 시리즈를 생성한다"
      ],
      "execution_count": 6,
      "outputs": [
        {
          "output_type": "execute_result",
          "data": {
            "text/plain": [
              "0    2021-12-04\n",
              "1          3.14\n",
              "2           ABC\n",
              "3           100\n",
              "4          True\n",
              "dtype: object"
            ]
          },
          "metadata": {},
          "execution_count": 6
        }
      ]
    },
    {
      "cell_type": "code",
      "metadata": {
        "colab": {
          "base_uri": "https://localhost:8080/"
        },
        "id": "FObDRjcHTNBf",
        "outputId": "121158ba-6373-404e-f4c8-d36c92f2a0c9"
      },
      "source": [
        "print(sr.index)"
      ],
      "execution_count": 7,
      "outputs": [
        {
          "output_type": "stream",
          "name": "stdout",
          "text": [
            "RangeIndex(start=0, stop=5, step=1)\n"
          ]
        }
      ]
    },
    {
      "cell_type": "code",
      "metadata": {
        "colab": {
          "base_uri": "https://localhost:8080/"
        },
        "id": "J0UYOrOaTPWp",
        "outputId": "9b353b49-4d94-40b3-e227-3e0eb335f5ec"
      },
      "source": [
        "print(sr.values)"
      ],
      "execution_count": 8,
      "outputs": [
        {
          "output_type": "stream",
          "name": "stdout",
          "text": [
            "['2021-12-04' 3.14 'ABC' 100 True]\n"
          ]
        }
      ]
    }
  ]
}